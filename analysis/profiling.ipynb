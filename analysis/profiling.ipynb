{
 "cells": [
  {
   "cell_type": "code",
   "execution_count": 1,
   "metadata": {},
   "outputs": [],
   "source": [
    "import os\n",
    "import sys\n",
    "import pandas\n",
    "import numpy\n",
    "import shutil\n",
    "import cProfile, pstats, io\n",
    "\n",
    "%load_ext cython"
   ]
  },
  {
   "cell_type": "code",
   "execution_count": 2,
   "metadata": {},
   "outputs": [],
   "source": [
    "from package_algorithms.sat.sa_sat import SimulatedAnnealing_SAT\n",
    "from package_parsers.sat_parser import SATParser\n",
    "from algorithm_tester_common.tester_dataclasses import AlgTesterContext\n",
    "from algorithm_tester.helpers import create_path\n",
    "from algorithm_tester.concurrency_runners import BaseRunner"
   ]
  },
  {
   "cell_type": "code",
   "execution_count": 3,
   "metadata": {},
   "outputs": [],
   "source": [
    "def profile(fnc):\n",
    "    \n",
    "    \"\"\"A decorator that uses cProfile to profile a function\"\"\"\n",
    "    \n",
    "    def inner(*args, **kwargs):\n",
    "        \n",
    "        pr = cProfile.Profile()\n",
    "        pr.enable()\n",
    "        retval = fnc(*args, **kwargs)\n",
    "        pr.disable()\n",
    "        s = io.StringIO()\n",
    "        sortby = 'cumulative'\n",
    "        ps = pstats.Stats(pr, stream=s).sort_stats(sortby)\n",
    "        ps.print_stats()\n",
    "        print(s.getvalue())\n",
    "        return retval\n",
    "\n",
    "    return inner"
   ]
  },
  {
   "cell_type": "code",
   "execution_count": 4,
   "metadata": {},
   "outputs": [
    {
     "name": "stdout",
     "output_type": "stream",
     "text": [
      "         19485493 function calls in 40.692 seconds\n",
      "\n",
      "   Ordered by: cumulative time\n",
      "\n",
      "   ncalls  tottime  percall  cumtime  percall filename:lineno(function)\n",
      "        1    0.000    0.000   40.692   40.692 <ipython-input-4-c7cd1fafaa66>:1(profileRunAlgorithms)\n",
      "        1    0.000    0.000   40.692   40.692 /Users/petr/Documents/Projects/Python/AlgorithmTester/package_algorithms/sat/sa_sat.py:172(perform_algorithm)\n",
      "        1    0.150    0.150   40.692   40.692 /Users/petr/Documents/Projects/Python/AlgorithmTester/package_algorithms/sat/sa_sat.py:132(get_solution)\n",
      "    68950    0.180    0.000   40.235    0.001 /Users/petr/Documents/Projects/Python/AlgorithmTester/package_algorithms/sat/sa_sat.py:91(get_new_neighbour)\n",
      "    68951    0.145    0.000   39.853    0.001 /Users/petr/Documents/Projects/Python/AlgorithmTester/package_algorithms/sat/sa_sat.py:75(check_validity)\n",
      "    68951   38.184    0.001   39.708    0.001 /Users/petr/Documents/Projects/Python/AlgorithmTester/package_algorithms/sat/sa_sat.py:57(run_loop)\n",
      " 18203064    1.524    0.000    1.524    0.000 {built-in method builtins.abs}\n",
      "    68950    0.103    0.000    0.256    0.000 /Users/petr/Documents/Projects/Python/AlgorithmTester/package_algorithms/sat/alg_dataclasses.py:40(copy)\n",
      "    68950    0.030    0.000    0.204    0.000 /usr/local/Cellar/python/3.7.5/Frameworks/Python.framework/Versions/3.7/lib/python3.7/random.py:218(randint)\n",
      "    68950    0.072    0.000    0.173    0.000 /usr/local/Cellar/python/3.7.5/Frameworks/Python.framework/Versions/3.7/lib/python3.7/random.py:174(randrange)\n",
      "   137902    0.077    0.000    0.153    0.000 <__array_function__ internals>:2(copyto)\n",
      "    68950    0.067    0.000    0.101    0.000 /usr/local/Cellar/python/3.7.5/Frameworks/Python.framework/Versions/3.7/lib/python3.7/random.py:224(_randbelow)\n",
      "   137902    0.055    0.000    0.055    0.000 {built-in method numpy.core._multiarray_umath.implement_array_function}\n",
      "   110242    0.026    0.000    0.026    0.000 {method 'getrandbits' of '_random.Random' objects}\n",
      "    68950    0.025    0.000    0.025    0.000 /Users/petr/Documents/Projects/Python/AlgorithmTester/package_algorithms/sat/sa_sat.py:105(is_new_sol_better)\n",
      "   137902    0.021    0.000    0.021    0.000 /Users/petr/Documents/Projects/Python/AlgorithmTester/venv/lib/python3.7/site-packages/numpy/core/multiarray.py:1043(copyto)\n",
      "    68950    0.013    0.000    0.013    0.000 {built-in method math.exp}\n",
      "    68950    0.011    0.000    0.011    0.000 {method 'random' of '_random.Random' objects}\n",
      "    68950    0.008    0.000    0.008    0.000 {method 'bit_length' of 'int' objects}\n",
      "        1    0.000    0.000    0.001    0.001 /Users/petr/Documents/Projects/Python/AlgorithmTester/package_algorithms/sat/sa_sat.py:84(initial_solution)\n",
      "        2    0.000    0.000    0.000    0.000 /Users/petr/Documents/Projects/Python/AlgorithmTester/package_algorithms/sat/sa_sat.py:49(duplicate_solution)\n",
      "        3    0.000    0.000    0.000    0.000 /Users/petr/Documents/Projects/Python/AlgorithmTester/package_algorithms/sat/alg_dataclasses.py:33(__init__)\n",
      "        1    0.000    0.000    0.000    0.000 /Users/petr/Documents/Projects/Python/AlgorithmTester/package_algorithms/sat/alg_dataclasses.py:10(__init__)\n",
      "        1    0.000    0.000    0.000    0.000 {method 'seed' of 'numpy.random.mtrand.RandomState' objects}\n",
      "        5    0.000    0.000    0.000    0.000 {built-in method numpy.zeros}\n",
      "        1    0.000    0.000    0.000    0.000 /usr/local/Cellar/python/3.7.5/Frameworks/Python.framework/Versions/3.7/lib/python3.7/random.py:97(seed)\n",
      "        2    0.000    0.000    0.000    0.000 {method 'copy' of 'numpy.ndarray' objects}\n",
      "        1    0.000    0.000    0.000    0.000 {built-in method builtins.sum}\n",
      "        1    0.000    0.000    0.000    0.000 {function Random.seed at 0x1069c0680}\n",
      "        1    0.000    0.000    0.000    0.000 {method 'update' of 'dict' objects}\n",
      "        5    0.000    0.000    0.000    0.000 {method 'get' of 'dict' objects}\n",
      "        1    0.000    0.000    0.000    0.000 {built-in method builtins.isinstance}\n",
      "        1    0.000    0.000    0.000    0.000 {method 'disable' of '_lsprof.Profiler' objects}\n",
      "\n",
      "\n",
      "\n"
     ]
    }
   ],
   "source": [
    "@profile\n",
    "def profileRunAlgorithms(context, instance_data):\n",
    "    sa = SimulatedAnnealing_SAT()\n",
    "    sa.perform_algorithm(context, instance_data)\n",
    "\n",
    "parser: SATParser = SATParser()\n",
    "\n",
    "out_dir: str = \".tmp_out_dir\"\n",
    "context: AlgTesterContext = AlgTesterContext(\n",
    "    algorithms=[\"SA_SAT\"], parser=\"SATParser\", communicators=[], concurrency_runner=BaseRunner(),\n",
    "    check_time=True, time_retries=1, max_num=None,\n",
    "    extra_options={\"init_temperature\":1000, \"min_temperature\":1, \"cooling\":0.995, \"cycles\":50, \"create_evo_file\":False},\n",
    "    input_dir=\"../data/NK\", output_dir=out_dir\n",
    "    )\n",
    "    \n",
    "create_path(out_dir)\n",
    "with open(\"../data/wuf-A/wuf20-88-A/wuf20-01000-A.mwcnf\") as instance_file:\n",
    "    instance_data = parser.get_next_instance(instance_file)\n",
    "    profileRunAlgorithms(context, instance_data)\n",
    "    \n",
    "shutil.rmtree(out_dir)"
   ]
  },
  {
   "cell_type": "code",
   "execution_count": 5,
   "metadata": {},
   "outputs": [],
   "source": [
    "%%cython\n",
    "\n",
    "import time\n",
    "import random\n",
    "from libc.math cimport exp\n",
    "from libc.stdlib cimport rand, srand, RAND_MAX\n",
    "from libc.stdio cimport fopen, FILE, fclose, fprintf\n",
    "\n",
    "cpdef void set_seed(int seed):\n",
    "    srand(seed)\n",
    "    \n",
    "cpdef float random_float():\n",
    "    return rand()/RAND_MAX\n",
    "\n",
    "cpdef int random_int(int low = 0, int height = 2):\n",
    "    return rand() % height + low\n",
    "            \n",
    "cpdef test(str path):\n",
    "    with open(path, \"w\") as out:\n",
    "        print(type(out))\n",
    "        out.write(\"test\\n\")"
   ]
  },
  {
   "cell_type": "code",
   "execution_count": 6,
   "metadata": {},
   "outputs": [
    {
     "name": "stdout",
     "output_type": "stream",
     "text": [
      "<class '_io.TextIOWrapper'>\n"
     ]
    }
   ],
   "source": [
    "\n",
    "    \n",
    "test(\"test_file.csv\")"
   ]
  },
  {
   "cell_type": "code",
   "execution_count": 7,
   "metadata": {},
   "outputs": [
    {
     "data": {
      "text/plain": [
       "75850"
      ]
     },
     "execution_count": 7,
     "metadata": {},
     "output_type": "execute_result"
    }
   ],
   "source": [
    "cooling = 0.995\n",
    "max_temp = 1000\n",
    "min_temp = 0.5\n",
    "cycles = 50\n",
    "cntr = 0\n",
    "\n",
    "while max_temp > min_temp:\n",
    "    for _ in range(cycles):\n",
    "        cntr += 1\n",
    "    max_temp *= cooling\n",
    "\n",
    "cntr"
   ]
  },
  {
   "cell_type": "code",
   "execution_count": 8,
   "metadata": {},
   "outputs": [
    {
     "data": {
      "text/plain": [
       "array([list([1, 2]), list([3, 4]), list([5, 6, 7])], dtype=object)"
      ]
     },
     "execution_count": 8,
     "metadata": {},
     "output_type": "execute_result"
    }
   ],
   "source": [
    "numpy.array([[1, 2], [3, 4], [5, 6, 7]])"
   ]
  },
  {
   "cell_type": "code",
   "execution_count": null,
   "metadata": {},
   "outputs": [],
   "source": []
  }
 ],
 "metadata": {
  "kernelspec": {
   "display_name": "Python 3",
   "language": "python",
   "name": "python3"
  },
  "language_info": {
   "codemirror_mode": {
    "name": "ipython",
    "version": 3
   },
   "file_extension": ".py",
   "mimetype": "text/x-python",
   "name": "python",
   "nbconvert_exporter": "python",
   "pygments_lexer": "ipython3",
   "version": "3.7.5"
  }
 },
 "nbformat": 4,
 "nbformat_minor": 2
}
