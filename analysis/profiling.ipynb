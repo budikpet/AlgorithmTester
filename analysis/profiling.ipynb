{
 "cells": [
  {
   "cell_type": "code",
   "execution_count": 5,
   "metadata": {},
   "outputs": [],
   "source": [
    "import os\n",
    "import sys\n",
    "import pandas\n",
    "import numpy\n",
    "import shutil\n",
    "import cProfile, pstats, io\n",
    "\n",
    "%load_ext cython"
   ]
  },
  {
   "cell_type": "code",
   "execution_count": 2,
   "metadata": {},
   "outputs": [],
   "source": [
    "from algorithm_tester.tester_logic import run_algorithms_for_file\n",
    "from algorithm_tester.tester_dataclasses import AlgTesterContext\n",
    "from algorithm_tester.helpers import create_path"
   ]
  },
  {
   "cell_type": "code",
   "execution_count": 3,
   "metadata": {},
   "outputs": [],
   "source": [
    "def profile(fnc):\n",
    "    \n",
    "    \"\"\"A decorator that uses cProfile to profile a function\"\"\"\n",
    "    \n",
    "    def inner(*args, **kwargs):\n",
    "        \n",
    "        pr = cProfile.Profile()\n",
    "        pr.enable()\n",
    "        retval = fnc(*args, **kwargs)\n",
    "        pr.disable()\n",
    "        s = io.StringIO()\n",
    "        sortby = 'cumulative'\n",
    "        ps = pstats.Stats(pr, stream=s).sort_stats(sortby)\n",
    "        ps.print_stats()\n",
    "        print(s.getvalue())\n",
    "        return retval\n",
    "\n",
    "    return inner"
   ]
  },
  {
   "cell_type": "code",
   "execution_count": 4,
   "metadata": {},
   "outputs": [
    {
     "name": "stdout",
     "output_type": "stream",
     "text": [
      "Running output for: Profile_40_inst_SA_sol.dat. Started 19:29:51 26.12.\n",
      "         574711 function calls in 0.885 seconds\n",
      "\n",
      "   Ordered by: cumulative time\n",
      "\n",
      "   ncalls  tottime  percall  cumtime  percall filename:lineno(function)\n",
      "        1    0.000    0.000    0.885    0.885 <ipython-input-4-b22bf7c8de01>:1(profileRunAlgorithms)\n",
      "        1    0.002    0.002    0.885    0.885 /Users/petr/Documents/Projects/Python/AlgorithmTester/algorithm_tester/tester_logic.py:67(run_algorithms_for_file)\n",
      "        2    0.000    0.000    0.882    0.441 /Users/petr/Documents/Projects/Python/AlgorithmTester/algorithm_tester/tester_logic.py:34(get_instance_file_results)\n",
      "        1    0.000    0.000    0.882    0.882 /usr/local/Cellar/python/3.7.5/Frameworks/Python.framework/Versions/3.7/lib/python3.7/timeit.py:162(timeit)\n",
      "        1    0.000    0.000    0.882    0.882 <timeit-src>:2(inner)\n",
      "        1    0.000    0.000    0.882    0.882 /Users/petr/Documents/Projects/Python/AlgorithmTester/algorithm_tester/tester_logic.py:55(<lambda>)\n",
      "        1    0.000    0.000    0.882    0.882 /Users/petr/Documents/Projects/Python/AlgorithmTester/package_algorithms/sa.py:143(perform_algorithm)\n",
      "        1    0.412    0.412    0.882    0.882 /Users/petr/Documents/Projects/Python/AlgorithmTester/package_algorithms/sa.py:92(get_solution)\n",
      "    78050    0.214    0.000    0.214    0.000 {built-in method csa.get_new_neighbour}\n",
      "    78050    0.070    0.000    0.173    0.000 /Users/petr/Documents/Projects/Python/AlgorithmTester/package_algorithms/alg_dataclasses.py:94(copy)\n",
      "    78050    0.039    0.000    0.104    0.000 <__array_function__ internals>:2(copyto)\n",
      "    79611    0.056    0.000    0.073    0.000 {built-in method numpy.core._multiarray_umath.implement_array_function}\n",
      "     1561    0.019    0.000    0.047    0.000 {method 'randint' of 'numpy.random.mtrand.RandomState' objects}\n",
      "     1561    0.001    0.000    0.019    0.000 <__array_function__ internals>:2(prod)\n",
      "     1561    0.002    0.000    0.017    0.000 /Users/petr/Documents/Projects/Python/AlgorithmTester/venv/lib/python3.7/site-packages/numpy/core/fromnumeric.py:2792(prod)\n",
      "     1561    0.004    0.000    0.015    0.000 /Users/petr/Documents/Projects/Python/AlgorithmTester/venv/lib/python3.7/site-packages/numpy/core/fromnumeric.py:73(_wrapreduction)\n",
      "    78050    0.013    0.000    0.013    0.000 {built-in method math.exp}\n",
      "    78051    0.012    0.000    0.012    0.000 /Users/petr/Documents/Projects/Python/AlgorithmTester/package_algorithms/sa.py:55(get_fitness)\n",
      "     1561    0.010    0.000    0.010    0.000 {method 'uniform' of 'numpy.random.mtrand.RandomState' objects}\n",
      "    78050    0.010    0.000    0.010    0.000 /Users/petr/Documents/Projects/Python/AlgorithmTester/venv/lib/python3.7/site-packages/numpy/core/multiarray.py:1043(copyto)\n",
      "     1561    0.003    0.000    0.009    0.000 /Users/petr/Documents/Projects/Python/AlgorithmTester/venv/lib/python3.7/site-packages/numpy/core/_dtype.py:319(_name_get)\n",
      "     1561    0.008    0.000    0.008    0.000 {method 'reduce' of 'numpy.ufunc' objects}\n",
      "     1561    0.002    0.000    0.005    0.000 /Users/petr/Documents/Projects/Python/AlgorithmTester/venv/lib/python3.7/site-packages/numpy/core/numerictypes.py:365(issubdtype)\n",
      "     3122    0.002    0.000    0.003    0.000 /Users/petr/Documents/Projects/Python/AlgorithmTester/venv/lib/python3.7/site-packages/numpy/core/numerictypes.py:293(issubclass_)\n",
      "     4683    0.001    0.000    0.001    0.000 {built-in method builtins.issubclass}\n",
      "     1561    0.001    0.000    0.001    0.000 {built-in method builtins.getattr}\n",
      "     1561    0.001    0.000    0.001    0.000 /Users/petr/Documents/Projects/Python/AlgorithmTester/venv/lib/python3.7/site-packages/numpy/core/fromnumeric.py:74(<dictcomp>)\n",
      "        1    0.001    0.001    0.001    0.001 /Users/petr/Documents/Projects/Python/AlgorithmTester/algorithm_tester/tester_logic.py:21(create_columns_description_file)\n",
      "        2    0.000    0.000    0.000    0.000 {built-in method io.open}\n",
      "        1    0.000    0.000    0.000    0.000 {built-in method builtins.print}\n",
      "     1561    0.000    0.000    0.000    0.000 {method 'items' of 'dict' objects}\n",
      "        2    0.000    0.000    0.000    0.000 /Users/petr/Documents/Projects/Python/AlgorithmTester/venv/lib/python3.7/site-packages/ipykernel/iostream.py:384(write)\n",
      "        3    0.000    0.000    0.000    0.000 /Users/petr/Documents/Projects/Python/AlgorithmTester/venv/lib/python3.7/site-packages/ipykernel/iostream.py:197(schedule)\n",
      "     1561    0.000    0.000    0.000    0.000 /Users/petr/Documents/Projects/Python/AlgorithmTester/venv/lib/python3.7/site-packages/numpy/core/fromnumeric.py:2787(_prod_dispatcher)\n",
      "        3    0.000    0.000    0.000    0.000 /Users/petr/Documents/Projects/Python/AlgorithmTester/venv/lib/python3.7/site-packages/zmq/sugar/socket.py:342(send)\n",
      "        2    0.000    0.000    0.000    0.000 /Users/petr/Documents/Projects/Python/AlgorithmTester/venv/lib/python3.7/site-packages/ipykernel/iostream.py:322(_schedule_flush)\n",
      "        1    0.000    0.000    0.000    0.000 /usr/local/Cellar/python/3.7.5/Frameworks/Python.framework/Versions/3.7/lib/python3.7/timeit.py:100(__init__)\n",
      "        2    0.000    0.000    0.000    0.000 /Users/petr/Documents/Projects/Python/AlgorithmTester/package_parsers/knapsack_parser.py:17(get_next_instance)\n",
      "        2    0.000    0.000    0.000    0.000 {built-in method builtins.compile}\n",
      "        1    0.000    0.000    0.000    0.000 /Users/petr/Documents/Projects/Python/AlgorithmTester/package_parsers/knapsack_parser.py:37(write_result_to_file)\n",
      "        1    0.000    0.000    0.000    0.000 {method 'flush' of '_io.TextIOWrapper' objects}\n",
      "        2    0.000    0.000    0.000    0.000 {method 'readline' of '_io.TextIOWrapper' objects}\n",
      "        3    0.000    0.000    0.000    0.000 {method 'join' of 'str' objects}\n",
      "        1    0.000    0.000    0.000    0.000 /Users/petr/Documents/Projects/Python/AlgorithmTester/package_algorithms/alg_dataclasses.py:36(__init__)\n",
      "        1    0.000    0.000    0.000    0.000 /Users/petr/Documents/Projects/Python/AlgorithmTester/package_algorithms/sa.py:58(initial_solution)\n",
      "        3    0.000    0.000    0.000    0.000 /Users/petr/Documents/Projects/Python/AlgorithmTester/algorithm_tester/plugins.py:82(get_algorithm)\n",
      "        1    0.000    0.000    0.000    0.000 /Users/petr/Documents/Projects/Python/AlgorithmTester/package_algorithms/alg_dataclasses.py:25(__init__)\n",
      "        3    0.000    0.000    0.000    0.000 /Users/petr/Documents/Projects/Python/AlgorithmTester/algorithm_tester/plugins.py:92(<listcomp>)\n",
      "        1    0.000    0.000    0.000    0.000 /Users/petr/Documents/Projects/Python/AlgorithmTester/package_algorithms/alg_dataclasses.py:32(<listcomp>)\n",
      "        1    0.000    0.000    0.000    0.000 /Users/petr/Documents/Projects/Python/AlgorithmTester/algorithm_tester/tester_dataclasses.py:88(reload_input_file)\n",
      "        1    0.000    0.000    0.000    0.000 /Users/petr/Documents/Projects/Python/AlgorithmTester/package_parsers/knapsack_parser.py:26(<listcomp>)\n",
      "        1    0.000    0.000    0.000    0.000 {method 'seed' of 'numpy.random.mtrand.RandomState' objects}\n",
      "        1    0.000    0.000    0.000    0.000 {method 'seek' of '_io.TextIOWrapper' objects}\n",
      "        1    0.000    0.000    0.000    0.000 {built-in method builtins.sorted}\n",
      "        2    0.000    0.000    0.000    0.000 /usr/local/Cellar/python/3.7.5/Frameworks/Python.framework/Versions/3.7/lib/python3.7/_bootlocale.py:33(getpreferredencoding)\n",
      "        4    0.000    0.000    0.000    0.000 {built-in method numpy.zeros}\n",
      "        3    0.000    0.000    0.000    0.000 /usr/local/Cellar/python/3.7.5/Frameworks/Python.framework/Versions/3.7/lib/python3.7/threading.py:1092(is_alive)\n",
      "        3    0.000    0.000    0.000    0.000 /usr/local/Cellar/python/3.7.5/Frameworks/Python.framework/Versions/3.7/lib/python3.7/codecs.py:319(decode)\n",
      "        1    0.000    0.000    0.000    0.000 {built-in method time.strftime}\n",
      "        1    0.000    0.000    0.000    0.000 /Users/petr/Documents/Projects/Python/AlgorithmTester/algorithm_tester/plugins.py:106(get_parser)\n",
      "       40    0.000    0.000    0.000    0.000 /Users/petr/Documents/Projects/Python/AlgorithmTester/package_algorithms/sa.py:145(<lambda>)\n",
      "       40    0.000    0.000    0.000    0.000 <string>:1(__init__)\n",
      "        1    0.000    0.000    0.000    0.000 /Users/petr/Documents/Projects/Python/AlgorithmTester/package_parsers/knapsack_parser.py:12(get_output_file_name)\n",
      "        3    0.000    0.000    0.000    0.000 {method 'update' of 'dict' objects}\n",
      "        2    0.000    0.000    0.000    0.000 {method 'split' of 'str' objects}\n",
      "        3    0.000    0.000    0.000    0.000 /usr/local/Cellar/python/3.7.5/Frameworks/Python.framework/Versions/3.7/lib/python3.7/threading.py:1050(_wait_for_tstate_lock)\n",
      "        2    0.000    0.000    0.000    0.000 {built-in method _locale.nl_langinfo}\n",
      "        1    0.000    0.000    0.000    0.000 /Users/petr/Documents/Projects/Python/AlgorithmTester/algorithm_tester/tester_dataclasses.py:149(get_options)\n",
      "       22    0.000    0.000    0.000    0.000 {method 'get' of 'dict' objects}\n",
      "        1    0.000    0.000    0.000    0.000 {method 'format' of 'str' objects}\n",
      "        1    0.000    0.000    0.000    0.000 {built-in method builtins.round}\n",
      "        3    0.000    0.000    0.000    0.000 {method 'acquire' of '_thread.lock' objects}\n",
      "        1    0.000    0.000    0.000    0.000 /usr/local/Cellar/python/3.7.5/Frameworks/Python.framework/Versions/3.7/lib/python3.7/codecs.py:327(reset)\n",
      "        3    0.000    0.000    0.000    0.000 /Users/petr/Documents/Projects/Python/AlgorithmTester/venv/lib/python3.7/site-packages/ipykernel/iostream.py:93(_event_pipe)\n",
      "        2    0.000    0.000    0.000    0.000 /Users/petr/Documents/Projects/Python/AlgorithmTester/venv/lib/python3.7/site-packages/ipykernel/iostream.py:309(_is_master_process)\n",
      "        1    0.000    0.000    0.000    0.000 /Users/petr/Documents/Projects/Python/AlgorithmTester/algorithm_tester/plugins.py:115(<listcomp>)\n",
      "        1    0.000    0.000    0.000    0.000 /Users/petr/Documents/Projects/Python/AlgorithmTester/package_parsers/knapsack_parser.py:49(<listcomp>)\n",
      "        2    0.000    0.000    0.000    0.000 {method 'replace' of 'str' objects}\n",
      "        3    0.000    0.000    0.000    0.000 {built-in method _codecs.utf_8_decode}\n",
      "        2    0.000    0.000    0.000    0.000 {method 'write' of '_io.TextIOWrapper' objects}\n",
      "        1    0.000    0.000    0.000    0.000 {built-in method builtins.exec}\n",
      "        2    0.000    0.000    0.000    0.000 /usr/local/Cellar/python/3.7.5/Frameworks/Python.framework/Versions/3.7/lib/python3.7/codecs.py:186(__init__)\n",
      "        1    0.000    0.000    0.000    0.000 /usr/local/Cellar/python/3.7.5/Frameworks/Python.framework/Versions/3.7/lib/python3.7/timeit.py:78(reindent)\n",
      "        1    0.000    0.000    0.000    0.000 {method 'copy' of 'numpy.ndarray' objects}\n",
      "        3    0.000    0.000    0.000    0.000 /Users/petr/Documents/Projects/Python/AlgorithmTester/package_algorithms/sa_penalty.py:36(get_name)\n",
      "        2    0.000    0.000    0.000    0.000 /Users/petr/Documents/Projects/Python/AlgorithmTester/package_algorithms/alg_dataclasses.py:83(__init__)\n",
      "        2    0.000    0.000    0.000    0.000 /Users/petr/Documents/Projects/Python/AlgorithmTester/package_algorithms/sa.py:38(get_columns)\n",
      "        3    0.000    0.000    0.000    0.000 {method 'pop' of 'list' objects}\n",
      "        1    0.000    0.000    0.000    0.000 {built-in method builtins.globals}\n",
      "        4    0.000    0.000    0.000    0.000 {built-in method builtins.isinstance}\n",
      "        1    0.000    0.000    0.000    0.000 {built-in method gc.enable}\n",
      "        2    0.000    0.000    0.000    0.000 {built-in method posix.getpid}\n",
      "        3    0.000    0.000    0.000    0.000 {method 'append' of 'collections.deque' objects}\n",
      "        1    0.000    0.000    0.000    0.000 /usr/local/Cellar/python/3.7.5/Frameworks/Python.framework/Versions/3.7/lib/python3.7/codecs.py:276(reset)\n",
      "        3    0.000    0.000    0.000    0.000 /usr/local/Cellar/python/3.7.5/Frameworks/Python.framework/Versions/3.7/lib/python3.7/codecs.py:331(getstate)\n",
      "        3    0.000    0.000    0.000    0.000 /usr/local/Cellar/python/3.7.5/Frameworks/Python.framework/Versions/3.7/lib/python3.7/threading.py:507(is_set)\n",
      "        1    0.000    0.000    0.000    0.000 {method 'disable' of '_lsprof.Profiler' objects}\n",
      "        1    0.000    0.000    0.000    0.000 /Users/petr/Documents/Projects/Python/AlgorithmTester/algorithm_tester/tester_dataclasses.py:85(set_input_file)\n",
      "        3    0.000    0.000    0.000    0.000 /Users/petr/Documents/Projects/Python/AlgorithmTester/package_algorithms/bb.py:9(get_name)\n",
      "        3    0.000    0.000    0.000    0.000 /Users/petr/Documents/Projects/Python/AlgorithmTester/package_algorithms/dp.py:93(get_name)\n",
      "        3    0.000    0.000    0.000    0.000 /Users/petr/Documents/Projects/Python/AlgorithmTester/package_algorithms/basic.py:14(get_name)\n",
      "        1    0.000    0.000    0.000    0.000 <timeit-src>:2(<module>)\n",
      "        1    0.000    0.000    0.000    0.000 {built-in method builtins.callable}\n",
      "        1    0.000    0.000    0.000    0.000 {built-in method builtins.iter}\n",
      "        1    0.000    0.000    0.000    0.000 {built-in method gc.disable}\n",
      "        1    0.000    0.000    0.000    0.000 {built-in method gc.isenabled}\n",
      "        2    0.000    0.000    0.000    0.000 {built-in method time.perf_counter}\n",
      "        3    0.000    0.000    0.000    0.000 /Users/petr/Documents/Projects/Python/AlgorithmTester/package_algorithms/dp.py:17(get_name)\n",
      "        3    0.000    0.000    0.000    0.000 /Users/petr/Documents/Projects/Python/AlgorithmTester/package_algorithms/bb.py:74(get_name)\n",
      "        3    0.000    0.000    0.000    0.000 /Users/petr/Documents/Projects/Python/AlgorithmTester/package_algorithms/basic.py:70(get_name)\n",
      "        3    0.000    0.000    0.000    0.000 /Users/petr/Documents/Projects/Python/AlgorithmTester/package_algorithms/sa.py:35(get_name)\n",
      "        1    0.000    0.000    0.000    0.000 /Users/petr/Documents/Projects/Python/AlgorithmTester/package_parsers/knapsack_parser.py:9(get_name)\n",
      "\n",
      "\n",
      "\n"
     ]
    }
   ],
   "source": [
    "@profile\n",
    "def profileRunAlgorithms(context, input_file):\n",
    "    run_algorithms_for_file(context, input_file)\n",
    "\n",
    "out_dir: str = \".tmp_out_dir\"\n",
    "context: AlgTesterContext = AlgTesterContext(\n",
    "    algorithms=[\"SA\"], parser=\"KnapsackParser\", communicators=[],\n",
    "    check_time=True, time_retries=1, max_num=None,\n",
    "    extra_options={\"init_temperature\":2500, \"min_temperature\":1, \"cooling\":0.995, \"cycles\":50},\n",
    "    input_dir=\"../data/NK\", output_dir=out_dir\n",
    "    )\n",
    "    \n",
    "create_path(out_dir)\n",
    "with open(\"../data/Profile/Profile_40_inst.dat\") as input_file:\n",
    "    profileRunAlgorithms(context, input_file)\n",
    "    \n",
    "shutil.rmtree(out_dir)"
   ]
  },
  {
   "cell_type": "code",
   "execution_count": 9,
   "metadata": {},
   "outputs": [],
   "source": [
    "high = 1000\n",
    "cnt = 1000000"
   ]
  },
  {
   "cell_type": "code",
   "execution_count": 26,
   "metadata": {},
   "outputs": [],
   "source": [
    "%%cython\n",
    "\n",
    "cpdef void ctest1(float init_temp=2500, float end_temp=1.0, float cooling_coef=0.995, int cycles = 50):\n",
    "    cdef float curr_temp = init_temp\n",
    "    cdef i, d\n",
    "    \n",
    "    d = 0\n",
    "    for i in range(cycles):\n",
    "        d += i\n",
    "    \n",
    "    while curr_temp > end_temp:\n",
    "        curr_temp *= cooling_coef"
   ]
  },
  {
   "cell_type": "code",
   "execution_count": 27,
   "metadata": {},
   "outputs": [],
   "source": [
    "@profile\n",
    "def test2(init_temp: float = 2500, end_temp: float = 1.0, cooling_coef: float = 0.995, cycles: int = 50):\n",
    "    curr_temp: float = init_temp\n",
    "        \n",
    "    d = 0\n",
    "    \n",
    "    while curr_temp > end_temp:\n",
    "        for i in range(cycles):\n",
    "            d += i\n",
    "        curr_temp *= cooling_coef\n",
    "        \n",
    "@profile\n",
    "def test1(init_temp: float = 2500, end_temp: float = 1.0, cooling_coef: float = 0.995, cycles: int = 50):\n",
    "    ctest1(init_temp, end_temp, cooling_coef, cycles)"
   ]
  },
  {
   "cell_type": "code",
   "execution_count": 29,
   "metadata": {},
   "outputs": [
    {
     "name": "stdout",
     "output_type": "stream",
     "text": [
      "         2 function calls in 0.483 seconds\n",
      "\n",
      "   Ordered by: cumulative time\n",
      "\n",
      "   ncalls  tottime  percall  cumtime  percall filename:lineno(function)\n",
      "        1    0.483    0.483    0.483    0.483 <ipython-input-27-c2625ed93909>:1(test2)\n",
      "        1    0.000    0.000    0.000    0.000 {method 'disable' of '_lsprof.Profiler' objects}\n",
      "\n",
      "\n",
      "\n"
     ]
    }
   ],
   "source": [
    "test2(cycles=5000)"
   ]
  },
  {
   "cell_type": "code",
   "execution_count": 30,
   "metadata": {},
   "outputs": [
    {
     "name": "stdout",
     "output_type": "stream",
     "text": [
      "         3 function calls in 0.000 seconds\n",
      "\n",
      "   Ordered by: cumulative time\n",
      "\n",
      "   ncalls  tottime  percall  cumtime  percall filename:lineno(function)\n",
      "        1    0.000    0.000    0.000    0.000 <ipython-input-27-c2625ed93909>:12(test1)\n",
      "        1    0.000    0.000    0.000    0.000 {built-in method _cython_magic_a6659c563660b47725d51814e45e8c0f.ctest1}\n",
      "        1    0.000    0.000    0.000    0.000 {method 'disable' of '_lsprof.Profiler' objects}\n",
      "\n",
      "\n",
      "\n"
     ]
    }
   ],
   "source": [
    "test1(cycles=5000)"
   ]
  },
  {
   "cell_type": "code",
   "execution_count": null,
   "metadata": {},
   "outputs": [],
   "source": []
  }
 ],
 "metadata": {
  "kernelspec": {
   "display_name": "Python 3",
   "language": "python",
   "name": "python3"
  },
  "language_info": {
   "codemirror_mode": {
    "name": "ipython",
    "version": 3
   },
   "file_extension": ".py",
   "mimetype": "text/x-python",
   "name": "python",
   "nbconvert_exporter": "python",
   "pygments_lexer": "ipython3",
   "version": "3.7.5"
  }
 },
 "nbformat": 4,
 "nbformat_minor": 2
}
