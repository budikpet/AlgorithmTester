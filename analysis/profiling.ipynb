{
 "cells": [
  {
   "cell_type": "code",
   "execution_count": 1,
   "metadata": {},
   "outputs": [],
   "source": [
    "import os\n",
    "import sys\n",
    "import pandas\n",
    "import numpy\n",
    "import shutil\n",
    "import cProfile, pstats, io\n",
    "\n",
    "%load_ext cython"
   ]
  },
  {
   "cell_type": "code",
   "execution_count": 2,
   "metadata": {},
   "outputs": [],
   "source": [
    "from package_parsers.sat_parser import SATParser\n",
    "from algorithm_tester_common.tester_dataclasses import AlgTesterContext\n",
    "from algorithm_tester.helpers import create_path\n",
    "from algorithm_tester.concurrency_runners import BaseRunner"
   ]
  },
  {
   "cell_type": "code",
   "execution_count": 3,
   "metadata": {},
   "outputs": [],
   "source": [
    "from package_algorithms.sat.sa_sat_v1 import SimulatedAnnealing_SAT_V1\n",
    "from package_algorithms.sat.sa_sat_v2 import SimulatedAnnealing_SAT_V2\n",
    "from package_algorithms.sat.sa_sat_v3 import SimulatedAnnealing_SAT_V3"
   ]
  },
  {
   "cell_type": "code",
   "execution_count": 4,
   "metadata": {},
   "outputs": [],
   "source": [
    "def profile(fnc):\n",
    "    \n",
    "    \"\"\"A decorator that uses cProfile to profile a function\"\"\"\n",
    "    \n",
    "    def inner(*args, **kwargs):\n",
    "        \n",
    "        pr = cProfile.Profile()\n",
    "        pr.enable()\n",
    "        retval = fnc(*args, **kwargs)\n",
    "        pr.disable()\n",
    "        s = io.StringIO()\n",
    "        sortby = 'cumulative'\n",
    "        ps = pstats.Stats(pr, stream=s).sort_stats(sortby)\n",
    "        ps.print_stats()\n",
    "        print(s.getvalue())\n",
    "        return retval\n",
    "\n",
    "    return inner"
   ]
  },
  {
   "cell_type": "code",
   "execution_count": 5,
   "metadata": {},
   "outputs": [
    {
     "name": "stdout",
     "output_type": "stream",
     "text": [
      "         1213081 function calls in 1.116 seconds\n",
      "\n",
      "   Ordered by: cumulative time\n",
      "\n",
      "   ncalls  tottime  percall  cumtime  percall filename:lineno(function)\n",
      "        1    0.000    0.000    1.116    1.116 <ipython-input-5-fbdf25a17e34>:1(profileRunAlgorithms)\n",
      "        1    0.000    0.000    1.116    1.116 /Users/petr/Documents/Projects/Python/AlgorithmTester/package_algorithms/sat/sa_sat_v1.py:169(perform_algorithm)\n",
      "        1    0.121    0.121    1.116    1.116 /Users/petr/Documents/Projects/Python/AlgorithmTester/package_algorithms/sat/sa_sat_v1.py:123(get_solution)\n",
      "    68950    0.192    0.000    0.736    0.000 /Users/petr/Documents/Projects/Python/AlgorithmTester/package_algorithms/sat/sa_sat_v1.py:73(get_new_neighbour)\n",
      "    68951    0.384    0.000    0.384    0.000 {built-in method csa_sat.check_validity}\n",
      "    68950    0.090    0.000    0.217    0.000 /Users/petr/Documents/Projects/Python/AlgorithmTester/package_algorithms/sat/alg_dataclasses.py:60(copy)\n",
      "    68950    0.026    0.000    0.161    0.000 /usr/local/Cellar/python/3.7.5/Frameworks/Python.framework/Versions/3.7/lib/python3.7/random.py:218(randint)\n",
      "    68950    0.058    0.000    0.136    0.000 /usr/local/Cellar/python/3.7.5/Frameworks/Python.framework/Versions/3.7/lib/python3.7/random.py:174(randrange)\n",
      "   137902    0.068    0.000    0.127    0.000 <__array_function__ internals>:2(copyto)\n",
      "    68950    0.052    0.000    0.077    0.000 /usr/local/Cellar/python/3.7.5/Frameworks/Python.framework/Versions/3.7/lib/python3.7/random.py:224(_randbelow)\n",
      "   137902    0.042    0.000    0.042    0.000 {built-in method numpy.core._multiarray_umath.implement_array_function}\n",
      "    68950    0.021    0.000    0.021    0.000 /Users/petr/Documents/Projects/Python/AlgorithmTester/package_algorithms/sat/sa_sat_v1.py:96(is_new_sol_better)\n",
      "   109846    0.019    0.000    0.019    0.000 {method 'getrandbits' of '_random.Random' objects}\n",
      "   137902    0.016    0.000    0.016    0.000 /Users/petr/Documents/Projects/Python/AlgorithmTester/venv/lib/python3.7/site-packages/numpy/core/multiarray.py:1043(copyto)\n",
      "    68950    0.012    0.000    0.012    0.000 {built-in method math.exp}\n",
      "    68950    0.009    0.000    0.009    0.000 {method 'random' of '_random.Random' objects}\n",
      "    68950    0.006    0.000    0.006    0.000 {method 'bit_length' of 'int' objects}\n",
      "        1    0.000    0.000    0.000    0.000 /Users/petr/Documents/Projects/Python/AlgorithmTester/package_algorithms/sat/sa_sat_v1.py:56(initial_solution)\n",
      "        2    0.000    0.000    0.000    0.000 /Users/petr/Documents/Projects/Python/AlgorithmTester/package_algorithms/sat/sa_sat_v1.py:39(duplicate_solution)\n",
      "        1    0.000    0.000    0.000    0.000 /Users/petr/Documents/Projects/Python/AlgorithmTester/package_algorithms/sat/alg_dataclasses.py:28(__init__)\n",
      "        8    0.000    0.000    0.000    0.000 {built-in method numpy.zeros}\n",
      "        3    0.000    0.000    0.000    0.000 /Users/petr/Documents/Projects/Python/AlgorithmTester/package_algorithms/sat/alg_dataclasses.py:52(__init__)\n",
      "        1    0.000    0.000    0.000    0.000 {built-in method builtins.sum}\n",
      "        2    0.000    0.000    0.000    0.000 {method 'copy' of 'numpy.ndarray' objects}\n",
      "        1    0.000    0.000    0.000    0.000 {method 'update' of 'dict' objects}\n",
      "        5    0.000    0.000    0.000    0.000 {method 'get' of 'dict' objects}\n",
      "        1    0.000    0.000    0.000    0.000 {method 'disable' of '_lsprof.Profiler' objects}\n",
      "\n",
      "\n",
      "\n"
     ]
    }
   ],
   "source": [
    "@profile\n",
    "def profileRunAlgorithms(context, instance_data):\n",
    "    sa = SimulatedAnnealing_SAT_V1()\n",
    "    sa.perform_algorithm(context, instance_data)\n",
    "\n",
    "parser: SATParser = SATParser()\n",
    "\n",
    "out_dir: str = \".tmp_out_dir\"\n",
    "context: AlgTesterContext = AlgTesterContext(\n",
    "    algorithms=[\"SA_SAT\"], parser=\"SATParser\", communicators=[], concurrency_runner=BaseRunner(),\n",
    "    check_time=True, time_retries=1, max_num=None,\n",
    "    extra_options={\"init_temperature\":1000, \"min_temperature\":1, \"cooling\":0.995, \"cycles\":50, \"max_retry_attempts\":3, \"create_evo_file\":False},\n",
    "    input_dir=\"../data/NK\", output_dir=out_dir\n",
    "    )\n",
    "    \n",
    "create_path(out_dir)\n",
    "with open(\"../data/wuf-A/wuf20-88-A/wuf20-01000-A.mwcnf\") as instance_file:\n",
    "    instance_data = parser.get_next_instance(instance_file)\n",
    "    profileRunAlgorithms(context, instance_data)\n",
    "    \n",
    "shutil.rmtree(out_dir)"
   ]
  },
  {
   "cell_type": "code",
   "execution_count": 6,
   "metadata": {},
   "outputs": [],
   "source": [
    "%%cython\n",
    "\n",
    "import time\n",
    "import random\n",
    "from libc.math cimport exp\n",
    "from libc.stdlib cimport rand, srand, RAND_MAX\n",
    "from libc.stdio cimport fopen, FILE, fclose, fprintf\n",
    "\n",
    "cpdef void set_seed(int seed):\n",
    "    srand(seed)\n",
    "    \n",
    "cpdef float random_float():\n",
    "    return rand()/RAND_MAX\n",
    "\n",
    "cpdef int random_int(int low = 0, int height = 2):\n",
    "    return rand() % height + low\n",
    "            \n",
    "cpdef test(str path):\n",
    "    with open(path, \"w\") as out:\n",
    "        print(type(out))\n",
    "        out.write(\"test\\n\")"
   ]
  },
  {
   "cell_type": "code",
   "execution_count": 7,
   "metadata": {},
   "outputs": [
    {
     "data": {
      "text/plain": [
       "75850"
      ]
     },
     "execution_count": 7,
     "metadata": {},
     "output_type": "execute_result"
    }
   ],
   "source": [
    "cooling = 0.995\n",
    "max_temp = 1000\n",
    "min_temp = 0.5\n",
    "cycles = 50\n",
    "cntr = 0\n",
    "\n",
    "while max_temp > min_temp:\n",
    "    for _ in range(cycles):\n",
    "        cntr += 1\n",
    "    max_temp *= cooling\n",
    "\n",
    "cntr"
   ]
  }
 ],
 "metadata": {
  "kernelspec": {
   "display_name": "Python 3",
   "language": "python",
   "name": "python3"
  },
  "language_info": {
   "codemirror_mode": {
    "name": "ipython",
    "version": 3
   },
   "file_extension": ".py",
   "mimetype": "text/x-python",
   "name": "python",
   "nbconvert_exporter": "python",
   "pygments_lexer": "ipython3",
   "version": "3.7.5"
  }
 },
 "nbformat": 4,
 "nbformat_minor": 2
}
