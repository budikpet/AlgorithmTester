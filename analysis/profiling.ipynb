{
 "cells": [
  {
   "cell_type": "code",
   "execution_count": 1,
   "metadata": {},
   "outputs": [],
   "source": [
    "import os\n",
    "import sys\n",
    "import pandas\n",
    "import numpy\n",
    "import shutil\n",
    "import cProfile, pstats, io\n",
    "\n",
    "%load_ext cython"
   ]
  },
  {
   "cell_type": "code",
   "execution_count": 2,
   "metadata": {},
   "outputs": [],
   "source": [
    "from package_parsers.sat_parser import SATParser\n",
    "from algorithm_tester_common.tester_dataclasses import AlgTesterContext\n",
    "from algorithm_tester.helpers import create_path\n",
    "from algorithm_tester.concurrency_runners import BaseRunner"
   ]
  },
  {
   "cell_type": "code",
   "execution_count": 3,
   "metadata": {},
   "outputs": [],
   "source": [
    "from package_algorithms.sat.sa_sat_v1 import SimulatedAnnealing_SAT_V1\n",
    "from package_algorithms.sat.sa_sat_v2 import SimulatedAnnealing_SAT_V2\n",
    "from package_algorithms.sat.sa_sat_v3 import SimulatedAnnealing_SAT_V3"
   ]
  },
  {
   "cell_type": "code",
   "execution_count": 4,
   "metadata": {},
   "outputs": [],
   "source": [
    "def profile(fnc):\n",
    "    \n",
    "    \"\"\"A decorator that uses cProfile to profile a function\"\"\"\n",
    "    \n",
    "    def inner(*args, **kwargs):\n",
    "        \n",
    "        pr = cProfile.Profile()\n",
    "        pr.enable()\n",
    "        retval = fnc(*args, **kwargs)\n",
    "        pr.disable()\n",
    "        s = io.StringIO()\n",
    "        sortby = 'cumulative'\n",
    "        ps = pstats.Stats(pr, stream=s).sort_stats(sortby)\n",
    "        ps.print_stats()\n",
    "        print(s.getvalue())\n",
    "        return retval\n",
    "\n",
    "    return inner"
   ]
  },
  {
   "cell_type": "code",
   "execution_count": 14,
   "metadata": {},
   "outputs": [
    {
     "name": "stdout",
     "output_type": "stream",
     "text": [
      "         5998249 function calls in 4.797 seconds\n",
      "\n",
      "   Ordered by: cumulative time\n",
      "\n",
      "   ncalls  tottime  percall  cumtime  percall filename:lineno(function)\n",
      "        1    0.000    0.000    4.797    4.797 <ipython-input-14-8d212197a611>:1(profileRunAlgorithms)\n",
      "        1    0.000    0.000    4.797    4.797 /Users/petr/Documents/Projects/Python/AlgorithmTester/package_algorithms/sat/sa_sat_v2.py:103(perform_algorithm)\n",
      "        1    0.072    0.072    4.797    4.797 /Users/petr/Documents/Projects/Python/AlgorithmTester/package_algorithms/sat/sa_sat_v2.py:69(get_solution)\n",
      "   206850    0.400    0.000    4.725    0.000 /Users/petr/Documents/Projects/Python/AlgorithmTester/package_algorithms/sat/sa_sat_v2.py:36(try_new_solution)\n",
      "   206850    0.602    0.000    3.542    0.000 /Users/petr/Documents/Projects/Python/AlgorithmTester/package_algorithms/sat/sa_sat_v3.py:44(get_new_neighbour)\n",
      "   206850    0.418    0.000    2.097    0.000 /Users/petr/Documents/Projects/Python/AlgorithmTester/package_algorithms/sat/sa_sat_v3.py:25(get_random_max_invalids_index)\n",
      "   206850    0.114    0.000    1.004    0.000 <__array_function__ internals>:2(argpartition)\n",
      "   620552    0.203    0.000    0.990    0.000 {built-in method numpy.core._multiarray_umath.implement_array_function}\n",
      "   206851    0.843    0.000    0.843    0.000 {built-in method csa_sat.check_validity}\n",
      "   206850    0.135    0.000    0.787    0.000 /Users/petr/Documents/Projects/Python/AlgorithmTester/venv/lib/python3.7/site-packages/numpy/core/fromnumeric.py:754(argpartition)\n",
      "   206850    0.092    0.000    0.652    0.000 /Users/petr/Documents/Projects/Python/AlgorithmTester/venv/lib/python3.7/site-packages/numpy/core/fromnumeric.py:55(_wrapfunc)\n",
      "   206850    0.271    0.000    0.651    0.000 /Users/petr/Documents/Projects/Python/AlgorithmTester/package_algorithms/sat/alg_dataclasses.py:56(copy)\n",
      "   206850    0.080    0.000    0.546    0.000 /usr/local/Cellar/python/3.7.5/Frameworks/Python.framework/Versions/3.7/lib/python3.7/random.py:218(randint)\n",
      "   206850    0.524    0.000    0.524    0.000 {method 'argpartition' of 'numpy.ndarray' objects}\n",
      "   206850    0.183    0.000    0.466    0.000 /usr/local/Cellar/python/3.7.5/Frameworks/Python.framework/Versions/3.7/lib/python3.7/random.py:174(randrange)\n",
      "   413702    0.204    0.000    0.380    0.000 <__array_function__ internals>:2(copyto)\n",
      "   206850    0.187    0.000    0.283    0.000 /usr/local/Cellar/python/3.7.5/Frameworks/Python.framework/Versions/3.7/lib/python3.7/random.py:224(_randbelow)\n",
      "   206850    0.077    0.000    0.077    0.000 {built-in method builtins.max}\n",
      "   413267    0.075    0.000    0.075    0.000 {method 'getrandbits' of '_random.Random' objects}\n",
      "   206850    0.066    0.000    0.066    0.000 /Users/petr/Documents/Projects/Python/AlgorithmTester/package_algorithms/sat/sa_sat_v1.py:93(is_new_sol_better)\n",
      "   413702    0.051    0.000    0.051    0.000 /Users/petr/Documents/Projects/Python/AlgorithmTester/venv/lib/python3.7/site-packages/numpy/core/multiarray.py:1043(copyto)\n",
      "   206850    0.050    0.000    0.050    0.000 {built-in method math.ceil}\n",
      "   206850    0.036    0.000    0.036    0.000 {built-in method builtins.getattr}\n",
      "   206850    0.035    0.000    0.035    0.000 {built-in method math.exp}\n",
      "   206850    0.031    0.000    0.031    0.000 {method 'random' of '_random.Random' objects}\n",
      "   206850    0.025    0.000    0.025    0.000 /Users/petr/Documents/Projects/Python/AlgorithmTester/venv/lib/python3.7/site-packages/numpy/core/fromnumeric.py:750(_argpartition_dispatcher)\n",
      "   206850    0.021    0.000    0.021    0.000 {method 'bit_length' of 'int' objects}\n",
      "        2    0.000    0.000    0.000    0.000 /Users/petr/Documents/Projects/Python/AlgorithmTester/package_algorithms/sat/sa_sat_v1.py:36(duplicate_solution)\n",
      "        1    0.000    0.000    0.000    0.000 /Users/petr/Documents/Projects/Python/AlgorithmTester/package_algorithms/sat/alg_dataclasses.py:25(__init__)\n",
      "        1    0.000    0.000    0.000    0.000 /Users/petr/Documents/Projects/Python/AlgorithmTester/package_algorithms/sat/sa_sat_v1.py:53(initial_solution)\n",
      "        1    0.000    0.000    0.000    0.000 {built-in method builtins.sum}\n",
      "        5    0.000    0.000    0.000    0.000 {built-in method numpy.zeros}\n",
      "        3    0.000    0.000    0.000    0.000 /Users/petr/Documents/Projects/Python/AlgorithmTester/package_algorithms/sat/alg_dataclasses.py:49(__init__)\n",
      "        2    0.000    0.000    0.000    0.000 {method 'copy' of 'numpy.ndarray' objects}\n",
      "        1    0.000    0.000    0.000    0.000 {method 'update' of 'dict' objects}\n",
      "        5    0.000    0.000    0.000    0.000 {method 'get' of 'dict' objects}\n",
      "        1    0.000    0.000    0.000    0.000 {method 'disable' of '_lsprof.Profiler' objects}\n",
      "\n",
      "\n",
      "\n"
     ]
    }
   ],
   "source": [
    "@profile\n",
    "def profileRunAlgorithms(context, instance_data):\n",
    "    sa = SimulatedAnnealing_SAT_V3()\n",
    "    sa.perform_algorithm(context, instance_data)\n",
    "\n",
    "parser: SATParser = SATParser()\n",
    "\n",
    "out_dir: str = \".tmp_out_dir\"\n",
    "context: AlgTesterContext = AlgTesterContext(\n",
    "    algorithms=[\"SA_SAT\"], parser=\"SATParser\", communicators=[], concurrency_runner=BaseRunner(),\n",
    "    check_time=True, time_retries=1, max_num=None,\n",
    "    extra_options={\"init_temperature\":1000, \"min_temperature\":1, \"cooling\":0.995, \"cycles\":50, \"max_retry_attempts\":3, \"create_evo_file\":False},\n",
    "    input_dir=\"../data/NK\", output_dir=out_dir\n",
    "    )\n",
    "    \n",
    "create_path(out_dir)\n",
    "with open(\"../data/wuf-A/wuf20-88-A/wuf20-01000-A.mwcnf\") as instance_file:\n",
    "    instance_data = parser.get_next_instance(instance_file)\n",
    "    profileRunAlgorithms(context, instance_data)\n",
    "    \n",
    "shutil.rmtree(out_dir)"
   ]
  },
  {
   "cell_type": "code",
   "execution_count": null,
   "metadata": {},
   "outputs": [],
   "source": [
    "%%cython\n",
    "\n",
    "import time\n",
    "import random\n",
    "from libc.math cimport exp\n",
    "from libc.stdlib cimport rand, srand, RAND_MAX\n",
    "from libc.stdio cimport fopen, FILE, fclose, fprintf\n",
    "\n",
    "cpdef void set_seed(int seed):\n",
    "    srand(seed)\n",
    "    \n",
    "cpdef float random_float():\n",
    "    return rand()/RAND_MAX\n",
    "\n",
    "cpdef int random_int(int low = 0, int height = 2):\n",
    "    return rand() % height + low\n",
    "            \n",
    "cpdef test(str path):\n",
    "    with open(path, \"w\") as out:\n",
    "        print(type(out))\n",
    "        out.write(\"test\\n\")"
   ]
  },
  {
   "cell_type": "code",
   "execution_count": null,
   "metadata": {},
   "outputs": [],
   "source": [
    "cooling = 0.995\n",
    "max_temp = 1000\n",
    "min_temp = 0.5\n",
    "cycles = 50\n",
    "cntr = 0\n",
    "\n",
    "while max_temp > min_temp:\n",
    "    for _ in range(cycles):\n",
    "        cntr += 1\n",
    "    max_temp *= cooling\n",
    "\n",
    "cntr"
   ]
  }
 ],
 "metadata": {
  "kernelspec": {
   "display_name": "Python 3",
   "language": "python",
   "name": "python3"
  },
  "language_info": {
   "codemirror_mode": {
    "name": "ipython",
    "version": 3
   },
   "file_extension": ".py",
   "mimetype": "text/x-python",
   "name": "python",
   "nbconvert_exporter": "python",
   "pygments_lexer": "ipython3",
   "version": "3.7.5"
  }
 },
 "nbformat": 4,
 "nbformat_minor": 2
}
