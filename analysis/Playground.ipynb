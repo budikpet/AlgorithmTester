{
 "cells": [
  {
   "cell_type": "code",
   "execution_count": 1,
   "metadata": {},
   "outputs": [],
   "source": [
    "import os"
   ]
  },
  {
   "cell_type": "markdown",
   "metadata": {},
   "source": [
    "# Script for renaming and moving solution files from tester_results to data"
   ]
  },
  {
   "cell_type": "code",
   "execution_count": 11,
   "metadata": {},
   "outputs": [
    {
     "name": "stdout",
     "output_type": "stream",
     "text": [
      "/Users/petr/Documents/Projects/Python/AlgorithmTester/analysis/tester_results/DataAnalysis\n",
      "/Users/petr/Documents/Projects/Python/AlgorithmTester/analysis/tester_results/DataAnalysis/WeightCapRation\n",
      "/Users/petr/Documents/Projects/Python/AlgorithmTester/analysis/tester_results/DataAnalysis/Correlation\n",
      "/Users/petr/Documents/Projects/Python/AlgorithmTester/analysis/tester_results/DataAnalysis/MaxWeight\n",
      "/Users/petr/Documents/Projects/Python/AlgorithmTester/analysis/tester_results/DataAnalysis/Balance\n",
      "/Users/petr/Documents/Projects/Python/AlgorithmTester/analysis/tester_results/DataAnalysis/MaxCost\n",
      "/Users/petr/Documents/Projects/Python/AlgorithmTester/analysis/tester_results/DataAnalysis/GranularityHeavy\n",
      "/Users/petr/Documents/Projects/Python/AlgorithmTester/analysis/tester_results/DataAnalysis/GranularityLight\n"
     ]
    }
   ],
   "source": [
    "source_path = \"/Users/petr/Documents/Projects/Python/AlgorithmTester/analysis/tester_results/DataAnalysis\"\n",
    "dest_path = \"/Users/petr/Documents/Projects/Python/AlgorithmTester/data/DataAnalysis\"\n",
    "\n",
    "for root, dirs, files in os.walk(source_path):\n",
    "    print(f\"{root}\")\n",
    "    dir_name: str = root.split(\"/\")[-1]\n",
    "    for filename in files:\n",
    "        split = filename.split(\"_\")\n",
    "        split = [split[0], split[1], split[4]]\n",
    "        new_name: str = '_'.join(split)\n",
    "            \n",
    "        os.rename(f'{root}/{filename}', f'{dest_path}/{dir_name}/{new_name}')"
   ]
  },
  {
   "cell_type": "code",
   "execution_count": null,
   "metadata": {},
   "outputs": [],
   "source": []
  }
 ],
 "metadata": {
  "kernelspec": {
   "display_name": "Python 3",
   "language": "python",
   "name": "python3"
  },
  "language_info": {
   "codemirror_mode": {
    "name": "ipython",
    "version": 3
   },
   "file_extension": ".py",
   "mimetype": "text/x-python",
   "name": "python",
   "nbconvert_exporter": "python",
   "pygments_lexer": "ipython3",
   "version": "3.7.5"
  }
 },
 "nbformat": 4,
 "nbformat_minor": 2
}
