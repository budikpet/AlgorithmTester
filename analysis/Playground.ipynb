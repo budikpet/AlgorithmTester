{
 "cells": [
  {
   "cell_type": "code",
   "execution_count": 5,
   "metadata": {},
   "outputs": [],
   "source": [
    "import os"
   ]
  },
  {
   "cell_type": "markdown",
   "metadata": {},
   "source": [
    "# Script for renaming and moving solution files from tester_results to data"
   ]
  },
  {
   "cell_type": "code",
   "execution_count": 9,
   "metadata": {},
   "outputs": [
    {
     "name": "stdout",
     "output_type": "stream",
     "text": [
      "/Users/petr/Documents/Projects/Python/AlgorithmTester/analysis/tester_results/DataAnalysis\n",
      "/Users/petr/Documents/Projects/Python/AlgorithmTester/analysis/tester_results/DataAnalysis/WeightCapRation\n",
      "/Users/petr/Documents/Projects/Python/AlgorithmTester/analysis/tester_results/DataAnalysis/Correlation\n",
      "/Users/petr/Documents/Projects/Python/AlgorithmTester/data/DataAnalysis/Correlation/Corr/Correlation_Corr_sol.dat\n",
      "/Users/petr/Documents/Projects/Python/AlgorithmTester/data/DataAnalysis/Correlation/Strong/Correlation_Strong_sol.dat\n",
      "/Users/petr/Documents/Projects/Python/AlgorithmTester/data/DataAnalysis/Correlation/Uni/Correlation_Uni_sol.dat\n",
      "/Users/petr/Documents/Projects/Python/AlgorithmTester/analysis/tester_results/DataAnalysis/MaxWeight\n",
      "/Users/petr/Documents/Projects/Python/AlgorithmTester/analysis/tester_results/DataAnalysis/Balance\n",
      "/Users/petr/Documents/Projects/Python/AlgorithmTester/data/DataAnalysis/Balance/Bal/Balance_Bal_sol.dat\n",
      "/Users/petr/Documents/Projects/Python/AlgorithmTester/data/DataAnalysis/Balance/Light/Balance_Light_sol.dat\n",
      "/Users/petr/Documents/Projects/Python/AlgorithmTester/data/DataAnalysis/Balance/Heavy/Balance_Heavy_sol.dat\n",
      "/Users/petr/Documents/Projects/Python/AlgorithmTester/analysis/tester_results/DataAnalysis/MaxCost\n",
      "/Users/petr/Documents/Projects/Python/AlgorithmTester/analysis/tester_results/DataAnalysis/GranularityHeavy\n",
      "/Users/petr/Documents/Projects/Python/AlgorithmTester/data/DataAnalysis/GranularityHeavy/0,5/GranularityHeavy_0,5_sol.dat\n",
      "/Users/petr/Documents/Projects/Python/AlgorithmTester/data/DataAnalysis/GranularityHeavy/2,0/GranularityHeavy_2,0_sol.dat\n",
      "/Users/petr/Documents/Projects/Python/AlgorithmTester/data/DataAnalysis/GranularityHeavy/1,75/GranularityHeavy_1,75_sol.dat\n",
      "/Users/petr/Documents/Projects/Python/AlgorithmTester/data/DataAnalysis/GranularityHeavy/0,25/GranularityHeavy_0,25_sol.dat\n",
      "/Users/petr/Documents/Projects/Python/AlgorithmTester/data/DataAnalysis/GranularityHeavy/1,25/GranularityHeavy_1,25_sol.dat\n",
      "/Users/petr/Documents/Projects/Python/AlgorithmTester/data/DataAnalysis/GranularityHeavy/1,0/GranularityHeavy_1,0_sol.dat\n",
      "/Users/petr/Documents/Projects/Python/AlgorithmTester/data/DataAnalysis/GranularityHeavy/0,75/GranularityHeavy_0,75_sol.dat\n",
      "/Users/petr/Documents/Projects/Python/AlgorithmTester/data/DataAnalysis/GranularityHeavy/2,75/GranularityHeavy_2,75_sol.dat\n",
      "/Users/petr/Documents/Projects/Python/AlgorithmTester/data/DataAnalysis/GranularityHeavy/3,0/GranularityHeavy_3,0_sol.dat\n",
      "/Users/petr/Documents/Projects/Python/AlgorithmTester/data/DataAnalysis/GranularityHeavy/1,5/GranularityHeavy_1,5_sol.dat\n",
      "/Users/petr/Documents/Projects/Python/AlgorithmTester/data/DataAnalysis/GranularityHeavy/2,5/GranularityHeavy_2,5_sol.dat\n",
      "/Users/petr/Documents/Projects/Python/AlgorithmTester/data/DataAnalysis/GranularityHeavy/2,25/GranularityHeavy_2,25_sol.dat\n",
      "/Users/petr/Documents/Projects/Python/AlgorithmTester/analysis/tester_results/DataAnalysis/GranularityLight\n",
      "/Users/petr/Documents/Projects/Python/AlgorithmTester/data/DataAnalysis/GranularityLight/2,75/GranularityLight_2,75_sol.dat\n",
      "/Users/petr/Documents/Projects/Python/AlgorithmTester/data/DataAnalysis/GranularityLight/1,0/GranularityLight_1,0_sol.dat\n",
      "/Users/petr/Documents/Projects/Python/AlgorithmTester/data/DataAnalysis/GranularityLight/2,25/GranularityLight_2,25_sol.dat\n",
      "/Users/petr/Documents/Projects/Python/AlgorithmTester/data/DataAnalysis/GranularityLight/0,5/GranularityLight_0,5_sol.dat\n",
      "/Users/petr/Documents/Projects/Python/AlgorithmTester/data/DataAnalysis/GranularityLight/2,0/GranularityLight_2,0_sol.dat\n",
      "/Users/petr/Documents/Projects/Python/AlgorithmTester/data/DataAnalysis/GranularityLight/0,25/GranularityLight_0,25_sol.dat\n",
      "/Users/petr/Documents/Projects/Python/AlgorithmTester/data/DataAnalysis/GranularityLight/2,5/GranularityLight_2,5_sol.dat\n",
      "/Users/petr/Documents/Projects/Python/AlgorithmTester/data/DataAnalysis/GranularityLight/1,75/GranularityLight_1,75_sol.dat\n",
      "/Users/petr/Documents/Projects/Python/AlgorithmTester/data/DataAnalysis/GranularityLight/3,0/GranularityLight_3,0_sol.dat\n",
      "/Users/petr/Documents/Projects/Python/AlgorithmTester/data/DataAnalysis/GranularityLight/1,5/GranularityLight_1,5_sol.dat\n",
      "/Users/petr/Documents/Projects/Python/AlgorithmTester/data/DataAnalysis/GranularityLight/0,75/GranularityLight_0,75_sol.dat\n",
      "/Users/petr/Documents/Projects/Python/AlgorithmTester/data/DataAnalysis/GranularityLight/1,25/GranularityLight_1,25_sol.dat\n"
     ]
    }
   ],
   "source": [
    "source_path = \"/Users/petr/Documents/Projects/Python/AlgorithmTester/analysis/tester_results/DataAnalysis\"\n",
    "dest_path = \"/Users/petr/Documents/Projects/Python/AlgorithmTester/data/DataAnalysis\"\n",
    "\n",
    "dry_run: bool = True\n",
    "\n",
    "for root, dirs, files in os.walk(source_path):\n",
    "    print(f\"{root}\")\n",
    "    dir_name: str = root.split(\"/\")[-1]\n",
    "    for filename in files:\n",
    "        if \"column\" in filename or \"DPWeight\" not in filename:\n",
    "            continue\n",
    "                   \n",
    "        split = filename.split(\"_\")\n",
    "        split = [split[0], split[1], split[4]]\n",
    "        new_name: str = '_'.join(split)\n",
    "            \n",
    "        print(f'{dest_path}/{dir_name}/{split[1]}/{new_name}')\n",
    "            \n",
    "        if not dry_run:\n",
    "            os.rename(f'{root}/{filename}', f'{dest_path}/{dir_name}/{split[1]}/{new_name}')"
   ]
  },
  {
   "cell_type": "code",
   "execution_count": null,
   "metadata": {},
   "outputs": [],
   "source": []
  }
 ],
 "metadata": {
  "kernelspec": {
   "display_name": "Python 3",
   "language": "python",
   "name": "python3"
  },
  "language_info": {
   "codemirror_mode": {
    "name": "ipython",
    "version": 3
   },
   "file_extension": ".py",
   "mimetype": "text/x-python",
   "name": "python",
   "nbconvert_exporter": "python",
   "pygments_lexer": "ipython3",
   "version": "3.7.5"
  }
 },
 "nbformat": 4,
 "nbformat_minor": 2
}
